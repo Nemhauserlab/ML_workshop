{
 "cells": [
  {
   "cell_type": "markdown",
   "metadata": {
    "slideshow": {
     "slide_type": "skip"
    }
   },
   "source": [
    "<p style=\"font-size:250%\" ><b>Plant Biology 2020 Workshop</b></p>\n",
    "<p style=\"font-size:175%\" >How Machine Learning can be used to solve plant biology problems</p>"
   ]
  },
  {
   "cell_type": "markdown",
   "metadata": {
    "slideshow": {
     "slide_type": "skip"
    }
   },
   "source": [
    "* __Time/date__: 3:30-4:30pm, 7/29/20 (US Eastern time)\n",
    "* __Facilitator__: Shin-Han Shiu, Michigan State University\n",
    "* __Moderator__: Serena Lotreck, Michigan State University\n",
    "* __Material__: [ShiuLab ML workshop repository](https://github.com/ShiuLab/ML_workshop/blob/master/readme.md)"
   ]
  },
  {
   "cell_type": "markdown",
   "metadata": {
    "slideshow": {
     "slide_type": "skip"
    }
   },
   "source": [
    "# __The five step workflow__\n",
    "\n",
    "![](img/0_ml_workflow.png)"
   ]
  },
  {
   "cell_type": "markdown",
   "metadata": {
    "slideshow": {
     "slide_type": "skip"
    }
   },
   "source": [
    "# __Step 1. Turning biological questions into ML problems__\n",
    "\n",
    "## Biological question\n",
    "\n",
    "<div class=\"alert alert-block alert-success\">\n",
    "<b>What kinds of paralogous gene pairs tend to have strong fitness effects when mutated?</b>\n",
    "</div>\n",
    "\n",
    "## Machine learning problem\n",
    "\n",
    "<div class=\"alert alert-block alert-warning\">\n",
    "<b>How can we build a machine learning model to predict fitness of gene pairs when they are mutated?</b>\n",
    "</div>"
   ]
  },
  {
   "cell_type": "markdown",
   "metadata": {
    "slideshow": {
     "slide_type": "slide"
    }
   },
   "source": [
    "# __Step 2. Data collection and processing__"
   ]
  },
  {
   "cell_type": "markdown",
   "metadata": {
    "slideshow": {
     "slide_type": "slide"
    }
   },
   "source": [
    "## __2.1 Data collection__"
   ]
  },
  {
   "cell_type": "markdown",
   "metadata": {
    "slideshow": {
     "slide_type": "slide"
    }
   },
   "source": [
    "Six categories of information have been collected\n",
    "* Single and double mutant fitness\n",
    "* Biological process annotation\n",
    "* Molecular function annotation\n",
    "* Biochemical measurements: e.g. expression levels, physical interactions, subcellular localization etc.\n",
    "* Comparative genomics: e.g. sequence similarities, evolutionary rate, etc.\n",
    "\n",
    "Data size\n",
    "* ~18,000 measures between gene pairs\n",
    "* 8,160 paralogous gene pairs"
   ]
  },
  {
   "cell_type": "markdown",
   "metadata": {
    "slideshow": {
     "slide_type": "slide"
    }
   },
   "source": [
    "## __2.2 Examine data__"
   ]
  },
  {
   "cell_type": "markdown",
   "metadata": {
    "slideshow": {
     "slide_type": "subslide"
    }
   },
   "source": [
    "### Read data into a data frame"
   ]
  },
  {
   "cell_type": "code",
   "execution_count": 2,
   "metadata": {
    "slideshow": {
     "slide_type": "fragment"
    }
   },
   "outputs": [],
   "source": [
    "from pathlib import Path \n",
    "\n",
    "data_file = Path(\"./data/matrix_dm-fitness_features_modnames.csv\")"
   ]
  },
  {
   "cell_type": "code",
   "execution_count": 3,
   "metadata": {
    "slideshow": {
     "slide_type": "fragment"
    }
   },
   "outputs": [],
   "source": [
    "import pandas as pd     \n",
    "\n",
    "# Read the comma-delimited file (csv) into a data frame (df)\n",
    "df = pd.read_csv(data_file) "
   ]
  },
  {
   "cell_type": "markdown",
   "metadata": {
    "slideshow": {
     "slide_type": "subslide"
    }
   },
   "source": [
    "### Check how many rows and columns\n",
    "\n",
    "There are:\n",
    "* 8160 rows\n",
    "* 102 columns"
   ]
  },
  {
   "cell_type": "code",
   "execution_count": 4,
   "metadata": {
    "slideshow": {
     "slide_type": "fragment"
    }
   },
   "outputs": [
    {
     "data": {
      "text/plain": [
       "(8160, 102)"
      ]
     },
     "execution_count": 4,
     "metadata": {},
     "output_type": "execute_result"
    }
   ],
   "source": [
    "df.shape"
   ]
  },
  {
   "cell_type": "markdown",
   "metadata": {
    "slideshow": {
     "slide_type": "subslide"
    }
   },
   "source": [
    "### Look at the first few rows of the data\n",
    "\n",
    "Note that some cells do not have value:\n",
    "* NaN: not a number"
   ]
  },
  {
   "cell_type": "code",
   "execution_count": 5,
   "metadata": {
    "slideshow": {
     "slide_type": "fragment"
    }
   },
   "outputs": [
    {
     "data": {
      "text/html": [
       "<div>\n",
       "<style scoped>\n",
       "    .dataframe tbody tr th:only-of-type {\n",
       "        vertical-align: middle;\n",
       "    }\n",
       "\n",
       "    .dataframe tbody tr th {\n",
       "        vertical-align: top;\n",
       "    }\n",
       "\n",
       "    .dataframe thead th {\n",
       "        text-align: right;\n",
       "    }\n",
       "</style>\n",
       "<table border=\"1\" class=\"dataframe\">\n",
       "  <thead>\n",
       "    <tr style=\"text-align: right;\">\n",
       "      <th></th>\n",
       "      <th>index</th>\n",
       "      <th>fitness</th>\n",
       "      <th>GOslim_num_overlap</th>\n",
       "      <th>GOslim_%_overlap</th>\n",
       "      <th>full_GO_num_overlap</th>\n",
       "      <th>full_GO_%_overlap</th>\n",
       "      <th>PPI_total</th>\n",
       "      <th>PPI_num_overlap</th>\n",
       "      <th>PPI_%_overlap</th>\n",
       "      <th>37C_ORF_Chz1_reg_bind_max</th>\n",
       "      <th>...</th>\n",
       "      <th>25C_TSS_Bur6_reg_bind_difference</th>\n",
       "      <th>25C_ORF_Uga3_reg_bind_max</th>\n",
       "      <th>GO_PCA_Dim1</th>\n",
       "      <th>GO_PCA_Dim3</th>\n",
       "      <th>GO_PCA_Dim4</th>\n",
       "      <th>SM_max_fitness</th>\n",
       "      <th>SM_min_fitness</th>\n",
       "      <th>SM_fitness_difference</th>\n",
       "      <th>SM_fitness_avg</th>\n",
       "      <th>SM_fitness_total</th>\n",
       "    </tr>\n",
       "  </thead>\n",
       "  <tbody>\n",
       "    <tr>\n",
       "      <th>0</th>\n",
       "      <td>0</td>\n",
       "      <td>0.8098</td>\n",
       "      <td>NaN</td>\n",
       "      <td>28.571429</td>\n",
       "      <td>2.0</td>\n",
       "      <td>33.333333</td>\n",
       "      <td>6.0</td>\n",
       "      <td>0.0</td>\n",
       "      <td>0.000000</td>\n",
       "      <td>-0.72</td>\n",
       "      <td>...</td>\n",
       "      <td>7.000000e-01</td>\n",
       "      <td>0.67</td>\n",
       "      <td>-0.998186</td>\n",
       "      <td>0.875158</td>\n",
       "      <td>-0.168471</td>\n",
       "      <td>1.0385</td>\n",
       "      <td>0.7056</td>\n",
       "      <td>0.3329</td>\n",
       "      <td>0.87205</td>\n",
       "      <td>1.7441</td>\n",
       "    </tr>\n",
       "    <tr>\n",
       "      <th>1</th>\n",
       "      <td>1</td>\n",
       "      <td>1.0400</td>\n",
       "      <td>4.0</td>\n",
       "      <td>NaN</td>\n",
       "      <td>1.0</td>\n",
       "      <td>14.285714</td>\n",
       "      <td>19.0</td>\n",
       "      <td>0.0</td>\n",
       "      <td>0.000000</td>\n",
       "      <td>-0.40</td>\n",
       "      <td>...</td>\n",
       "      <td>5.100000e-01</td>\n",
       "      <td>0.31</td>\n",
       "      <td>-1.393140</td>\n",
       "      <td>1.317389</td>\n",
       "      <td>-0.398198</td>\n",
       "      <td>1.0130</td>\n",
       "      <td>1.0117</td>\n",
       "      <td>0.0013</td>\n",
       "      <td>1.01235</td>\n",
       "      <td>2.0247</td>\n",
       "    </tr>\n",
       "    <tr>\n",
       "      <th>2</th>\n",
       "      <td>2</td>\n",
       "      <td>0.9143</td>\n",
       "      <td>2.0</td>\n",
       "      <td>25.000000</td>\n",
       "      <td>3.0</td>\n",
       "      <td>NaN</td>\n",
       "      <td>15.0</td>\n",
       "      <td>1.0</td>\n",
       "      <td>6.666667</td>\n",
       "      <td>0.58</td>\n",
       "      <td>...</td>\n",
       "      <td>5.551115e-17</td>\n",
       "      <td>-0.51</td>\n",
       "      <td>-1.278924</td>\n",
       "      <td>1.515681</td>\n",
       "      <td>0.788125</td>\n",
       "      <td>0.9945</td>\n",
       "      <td>0.9065</td>\n",
       "      <td>0.0880</td>\n",
       "      <td>0.95050</td>\n",
       "      <td>1.9010</td>\n",
       "    </tr>\n",
       "    <tr>\n",
       "      <th>3</th>\n",
       "      <td>3</td>\n",
       "      <td>0.9395</td>\n",
       "      <td>4.0</td>\n",
       "      <td>50.000000</td>\n",
       "      <td>4.0</td>\n",
       "      <td>33.333333</td>\n",
       "      <td>17.0</td>\n",
       "      <td>0.0</td>\n",
       "      <td>0.000000</td>\n",
       "      <td>0.36</td>\n",
       "      <td>...</td>\n",
       "      <td>1.010000e+00</td>\n",
       "      <td>0.08</td>\n",
       "      <td>-1.499192</td>\n",
       "      <td>-3.729416</td>\n",
       "      <td>0.254523</td>\n",
       "      <td>1.0455</td>\n",
       "      <td>0.9920</td>\n",
       "      <td>0.0535</td>\n",
       "      <td>1.01875</td>\n",
       "      <td>2.0375</td>\n",
       "    </tr>\n",
       "    <tr>\n",
       "      <th>4</th>\n",
       "      <td>4</td>\n",
       "      <td>0.9792</td>\n",
       "      <td>4.0</td>\n",
       "      <td>100.000000</td>\n",
       "      <td>8.0</td>\n",
       "      <td>66.666667</td>\n",
       "      <td>61.0</td>\n",
       "      <td>0.0</td>\n",
       "      <td>0.000000</td>\n",
       "      <td>0.63</td>\n",
       "      <td>...</td>\n",
       "      <td>1.900000e-01</td>\n",
       "      <td>0.02</td>\n",
       "      <td>0.102606</td>\n",
       "      <td>-0.448486</td>\n",
       "      <td>-0.740647</td>\n",
       "      <td>1.0292</td>\n",
       "      <td>1.0003</td>\n",
       "      <td>0.0289</td>\n",
       "      <td>1.01475</td>\n",
       "      <td>2.0295</td>\n",
       "    </tr>\n",
       "  </tbody>\n",
       "</table>\n",
       "<p>5 rows × 102 columns</p>\n",
       "</div>"
      ],
      "text/plain": [
       "   index  fitness  GOslim_num_overlap  GOslim_%_overlap  full_GO_num_overlap  \\\n",
       "0      0   0.8098                 NaN         28.571429                  2.0   \n",
       "1      1   1.0400                 4.0               NaN                  1.0   \n",
       "2      2   0.9143                 2.0         25.000000                  3.0   \n",
       "3      3   0.9395                 4.0         50.000000                  4.0   \n",
       "4      4   0.9792                 4.0        100.000000                  8.0   \n",
       "\n",
       "   full_GO_%_overlap  PPI_total  PPI_num_overlap  PPI_%_overlap  \\\n",
       "0          33.333333        6.0              0.0       0.000000   \n",
       "1          14.285714       19.0              0.0       0.000000   \n",
       "2                NaN       15.0              1.0       6.666667   \n",
       "3          33.333333       17.0              0.0       0.000000   \n",
       "4          66.666667       61.0              0.0       0.000000   \n",
       "\n",
       "   37C_ORF_Chz1_reg_bind_max  ...  25C_TSS_Bur6_reg_bind_difference  \\\n",
       "0                      -0.72  ...                      7.000000e-01   \n",
       "1                      -0.40  ...                      5.100000e-01   \n",
       "2                       0.58  ...                      5.551115e-17   \n",
       "3                       0.36  ...                      1.010000e+00   \n",
       "4                       0.63  ...                      1.900000e-01   \n",
       "\n",
       "   25C_ORF_Uga3_reg_bind_max  GO_PCA_Dim1  GO_PCA_Dim3  GO_PCA_Dim4  \\\n",
       "0                       0.67    -0.998186     0.875158    -0.168471   \n",
       "1                       0.31    -1.393140     1.317389    -0.398198   \n",
       "2                      -0.51    -1.278924     1.515681     0.788125   \n",
       "3                       0.08    -1.499192    -3.729416     0.254523   \n",
       "4                       0.02     0.102606    -0.448486    -0.740647   \n",
       "\n",
       "   SM_max_fitness  SM_min_fitness  SM_fitness_difference  SM_fitness_avg  \\\n",
       "0          1.0385          0.7056                 0.3329         0.87205   \n",
       "1          1.0130          1.0117                 0.0013         1.01235   \n",
       "2          0.9945          0.9065                 0.0880         0.95050   \n",
       "3          1.0455          0.9920                 0.0535         1.01875   \n",
       "4          1.0292          1.0003                 0.0289         1.01475   \n",
       "\n",
       "   SM_fitness_total  \n",
       "0            1.7441  \n",
       "1            2.0247  \n",
       "2            1.9010  \n",
       "3            2.0375  \n",
       "4            2.0295  \n",
       "\n",
       "[5 rows x 102 columns]"
      ]
     },
     "execution_count": 5,
     "metadata": {},
     "output_type": "execute_result"
    }
   ],
   "source": [
    "df.head()"
   ]
  },
  {
   "cell_type": "markdown",
   "metadata": {
    "slideshow": {
     "slide_type": "subslide"
    }
   },
   "source": [
    "### List the fist 10 columns"
   ]
  },
  {
   "cell_type": "code",
   "execution_count": 6,
   "metadata": {
    "slideshow": {
     "slide_type": "fragment"
    }
   },
   "outputs": [
    {
     "data": {
      "text/plain": [
       "['index',\n",
       " 'fitness',\n",
       " 'GOslim_num_overlap',\n",
       " 'GOslim_%_overlap',\n",
       " 'full_GO_num_overlap',\n",
       " 'full_GO_%_overlap',\n",
       " 'PPI_total',\n",
       " 'PPI_num_overlap',\n",
       " 'PPI_%_overlap',\n",
       " '37C_ORF_Chz1_reg_bind_max']"
      ]
     },
     "execution_count": 6,
     "metadata": {},
     "output_type": "execute_result"
    }
   ],
   "source": [
    "list(df)[:10]"
   ]
  },
  {
   "cell_type": "markdown",
   "metadata": {
    "slideshow": {
     "slide_type": "slide"
    }
   },
   "source": [
    "## __2.3 Summarize the data__"
   ]
  },
  {
   "cell_type": "markdown",
   "metadata": {
    "slideshow": {
     "slide_type": "subslide"
    }
   },
   "source": [
    "### Get a sense of what types of data are in the table"
   ]
  },
  {
   "cell_type": "markdown",
   "metadata": {
    "slideshow": {
     "slide_type": "fragment"
    }
   },
   "source": [
    "We want to know what datatypes our features are.\n",
    "* Numerical features will be `int64` or `float64`\n",
    "* Categorical features are type `object` <br>\n",
    "This allows us to decide how to pre-process our data"
   ]
  },
  {
   "cell_type": "code",
   "execution_count": 7,
   "metadata": {
    "slideshow": {
     "slide_type": "fragment"
    }
   },
   "outputs": [
    {
     "name": "stdout",
     "output_type": "stream",
     "text": [
      "<class 'pandas.core.frame.DataFrame'>\n",
      "RangeIndex: 8160 entries, 0 to 8159\n",
      "Columns: 102 entries, index to SM_fitness_total\n",
      "dtypes: float64(101), int64(1)\n",
      "memory usage: 6.4 MB\n"
     ]
    }
   ],
   "source": [
    "df.info()"
   ]
  },
  {
   "cell_type": "markdown",
   "metadata": {
    "slideshow": {
     "slide_type": "subslide"
    }
   },
   "source": [
    "### Look at summary statistics of the data"
   ]
  },
  {
   "cell_type": "markdown",
   "metadata": {
    "slideshow": {
     "slide_type": "fragment"
    }
   },
   "source": [
    "Why do we need to do this?\n",
    "* Get a sense of what's in the data\n",
    "* See if there are any systematic issues with the data"
   ]
  },
  {
   "cell_type": "code",
   "execution_count": 8,
   "metadata": {
    "slideshow": {
     "slide_type": "fragment"
    }
   },
   "outputs": [
    {
     "data": {
      "text/html": [
       "<div>\n",
       "<style scoped>\n",
       "    .dataframe tbody tr th:only-of-type {\n",
       "        vertical-align: middle;\n",
       "    }\n",
       "\n",
       "    .dataframe tbody tr th {\n",
       "        vertical-align: top;\n",
       "    }\n",
       "\n",
       "    .dataframe thead th {\n",
       "        text-align: right;\n",
       "    }\n",
       "</style>\n",
       "<table border=\"1\" class=\"dataframe\">\n",
       "  <thead>\n",
       "    <tr style=\"text-align: right;\">\n",
       "      <th></th>\n",
       "      <th>fitness</th>\n",
       "      <th>GOslim_num_overlap</th>\n",
       "      <th>PPI_total</th>\n",
       "    </tr>\n",
       "  </thead>\n",
       "  <tbody>\n",
       "    <tr>\n",
       "      <th>count</th>\n",
       "      <td>8160.000000</td>\n",
       "      <td>8159.000000</td>\n",
       "      <td>8160.000000</td>\n",
       "    </tr>\n",
       "    <tr>\n",
       "      <th>mean</th>\n",
       "      <td>0.872332</td>\n",
       "      <td>3.963108</td>\n",
       "      <td>87.969853</td>\n",
       "    </tr>\n",
       "    <tr>\n",
       "      <th>std</th>\n",
       "      <td>0.214833</td>\n",
       "      <td>2.042089</td>\n",
       "      <td>97.874829</td>\n",
       "    </tr>\n",
       "    <tr>\n",
       "      <th>min</th>\n",
       "      <td>-0.092400</td>\n",
       "      <td>0.000000</td>\n",
       "      <td>1.000000</td>\n",
       "    </tr>\n",
       "    <tr>\n",
       "      <th>25%</th>\n",
       "      <td>0.801400</td>\n",
       "      <td>3.000000</td>\n",
       "      <td>34.000000</td>\n",
       "    </tr>\n",
       "    <tr>\n",
       "      <th>50%</th>\n",
       "      <td>0.955950</td>\n",
       "      <td>4.000000</td>\n",
       "      <td>53.000000</td>\n",
       "    </tr>\n",
       "    <tr>\n",
       "      <th>75%</th>\n",
       "      <td>1.014100</td>\n",
       "      <td>5.000000</td>\n",
       "      <td>105.000000</td>\n",
       "    </tr>\n",
       "    <tr>\n",
       "      <th>max</th>\n",
       "      <td>1.279900</td>\n",
       "      <td>18.000000</td>\n",
       "      <td>922.000000</td>\n",
       "    </tr>\n",
       "  </tbody>\n",
       "</table>\n",
       "</div>"
      ],
      "text/plain": [
       "           fitness  GOslim_num_overlap    PPI_total\n",
       "count  8160.000000         8159.000000  8160.000000\n",
       "mean      0.872332            3.963108    87.969853\n",
       "std       0.214833            2.042089    97.874829\n",
       "min      -0.092400            0.000000     1.000000\n",
       "25%       0.801400            3.000000    34.000000\n",
       "50%       0.955950            4.000000    53.000000\n",
       "75%       1.014100            5.000000   105.000000\n",
       "max       1.279900           18.000000   922.000000"
      ]
     },
     "execution_count": 8,
     "metadata": {},
     "output_type": "execute_result"
    }
   ],
   "source": [
    "# Just look at a few columns here \n",
    "columns = ['fitness', 'GOslim_num_overlap', 'PPI_total']\n",
    "\n",
    "df[columns].describe()"
   ]
  },
  {
   "cell_type": "markdown",
   "metadata": {
    "slideshow": {
     "slide_type": "subslide"
    }
   },
   "source": [
    "### Look at distribution and relationships"
   ]
  },
  {
   "cell_type": "markdown",
   "metadata": {
    "slideshow": {
     "slide_type": "fragment"
    }
   },
   "source": [
    "Why do we need to do this?\n",
    "* Check for abnormal distributions\n",
    "* Check if any features are highly correlated \n"
   ]
  },
  {
   "cell_type": "code",
   "execution_count": 9,
   "metadata": {
    "slideshow": {
     "slide_type": "fragment"
    }
   },
   "outputs": [
    {
     "data": {
      "text/plain": [
       "array([[<matplotlib.axes._subplots.AxesSubplot object at 0x0000020E0D6CCB88>,\n",
       "        <matplotlib.axes._subplots.AxesSubplot object at 0x0000020E0E460308>,\n",
       "        <matplotlib.axes._subplots.AxesSubplot object at 0x0000020E0E499108>],\n",
       "       [<matplotlib.axes._subplots.AxesSubplot object at 0x0000020E0E4D1208>,\n",
       "        <matplotlib.axes._subplots.AxesSubplot object at 0x0000020E0E507348>,\n",
       "        <matplotlib.axes._subplots.AxesSubplot object at 0x0000020E0E541448>],\n",
       "       [<matplotlib.axes._subplots.AxesSubplot object at 0x0000020E0E57EFC8>,\n",
       "        <matplotlib.axes._subplots.AxesSubplot object at 0x0000020E0E5B1608>,\n",
       "        <matplotlib.axes._subplots.AxesSubplot object at 0x0000020E0E5BD208>]],\n",
       "      dtype=object)"
      ]
     },
     "execution_count": 9,
     "metadata": {},
     "output_type": "execute_result"
    },
    {
     "data": {
      "image/png": "[encoded data removed]",
      "text/plain": [
       "<Figure size 576x576 with 9 Axes>"
      ]
     },
     "metadata": {
      "needs_background": "light"
     },
     "output_type": "display_data"
    }
   ],
   "source": [
    "pd.plotting.scatter_matrix(df[columns], figsize=(8,8), alpha=0.2)"
   ]
  },
  {
   "cell_type": "code",
   "execution_count": 10,
   "metadata": {
    "slideshow": {
     "slide_type": "fragment"
    }
   },
   "outputs": [
    {
     "data": {
      "text/html": [
       "<div>\n",
       "<style scoped>\n",
       "    .dataframe tbody tr th:only-of-type {\n",
       "        vertical-align: middle;\n",
       "    }\n",
       "\n",
       "    .dataframe tbody tr th {\n",
       "        vertical-align: top;\n",
       "    }\n",
       "\n",
       "    .dataframe thead th {\n",
       "        text-align: right;\n",
       "    }\n",
       "</style>\n",
       "<table border=\"1\" class=\"dataframe\">\n",
       "  <thead>\n",
       "    <tr style=\"text-align: right;\">\n",
       "      <th></th>\n",
       "      <th>GOslim_num_overlap</th>\n",
       "      <th>PPI_total</th>\n",
       "    </tr>\n",
       "  </thead>\n",
       "  <tbody>\n",
       "    <tr>\n",
       "      <th>GOslim_num_overlap</th>\n",
       "      <td>1.000000</td>\n",
       "      <td>0.058363</td>\n",
       "    </tr>\n",
       "    <tr>\n",
       "      <th>PPI_total</th>\n",
       "      <td>0.058363</td>\n",
       "      <td>1.000000</td>\n",
       "    </tr>\n",
       "  </tbody>\n",
       "</table>\n",
       "</div>"
      ],
      "text/plain": [
       "                    GOslim_num_overlap  PPI_total\n",
       "GOslim_num_overlap            1.000000   0.058363\n",
       "PPI_total                     0.058363   1.000000"
      ]
     },
     "execution_count": 10,
     "metadata": {},
     "output_type": "execute_result"
    }
   ],
   "source": [
    "df[['GOslim_num_overlap', 'PPI_total']].corr(method=\"spearman\")"
   ]
  },
  {
   "cell_type": "markdown",
   "metadata": {
    "slideshow": {
     "slide_type": "slide"
    }
   },
   "source": [
    "## __2.4 Data processing__"
   ]
  },
  {
   "cell_type": "markdown",
   "metadata": {
    "slideshow": {
     "slide_type": "subslide"
    }
   },
   "source": [
    "### How many problems can you find in this dataset?\n",
    "\n",
    "![](img/2_data_table.png)"
   ]
  },
  {
   "cell_type": "markdown",
   "metadata": {
    "slideshow": {
     "slide_type": "subslide"
    }
   },
   "source": [
    "### At lesat six problems\n",
    "\n",
    "![](img/2_data_table_problems.png)"
   ]
  },
  {
   "cell_type": "markdown",
   "metadata": {
    "slideshow": {
     "slide_type": "subslide"
    }
   },
   "source": [
    "### Specify labels (y) and features (X)"
   ]
  },
  {
   "cell_type": "code",
   "execution_count": 11,
   "metadata": {
    "scrolled": true,
    "slideshow": {
     "slide_type": "fragment"
    }
   },
   "outputs": [
    {
     "data": {
      "text/html": [
       "<div>\n",
       "<style scoped>\n",
       "    .dataframe tbody tr th:only-of-type {\n",
       "        vertical-align: middle;\n",
       "    }\n",
       "\n",
       "    .dataframe tbody tr th {\n",
       "        vertical-align: top;\n",
       "    }\n",
       "\n",
       "    .dataframe thead th {\n",
       "        text-align: right;\n",
       "    }\n",
       "</style>\n",
       "<table border=\"1\" class=\"dataframe\">\n",
       "  <thead>\n",
       "    <tr style=\"text-align: right;\">\n",
       "      <th></th>\n",
       "      <th>index</th>\n",
       "      <th>fitness</th>\n",
       "      <th>GOslim_num_overlap</th>\n",
       "      <th>GOslim_%_overlap</th>\n",
       "      <th>full_GO_num_overlap</th>\n",
       "    </tr>\n",
       "  </thead>\n",
       "  <tbody>\n",
       "    <tr>\n",
       "      <th>0</th>\n",
       "      <td>0</td>\n",
       "      <td>0.8098</td>\n",
       "      <td>NaN</td>\n",
       "      <td>28.571429</td>\n",
       "      <td>2.0</td>\n",
       "    </tr>\n",
       "    <tr>\n",
       "      <th>1</th>\n",
       "      <td>1</td>\n",
       "      <td>1.0400</td>\n",
       "      <td>4.0</td>\n",
       "      <td>NaN</td>\n",
       "      <td>1.0</td>\n",
       "    </tr>\n",
       "    <tr>\n",
       "      <th>2</th>\n",
       "      <td>2</td>\n",
       "      <td>0.9143</td>\n",
       "      <td>2.0</td>\n",
       "      <td>25.000000</td>\n",
       "      <td>3.0</td>\n",
       "    </tr>\n",
       "  </tbody>\n",
       "</table>\n",
       "</div>"
      ],
      "text/plain": [
       "   index  fitness  GOslim_num_overlap  GOslim_%_overlap  full_GO_num_overlap\n",
       "0      0   0.8098                 NaN         28.571429                  2.0\n",
       "1      1   1.0400                 4.0               NaN                  1.0\n",
       "2      2   0.9143                 2.0         25.000000                  3.0"
      ]
     },
     "execution_count": 11,
     "metadata": {},
     "output_type": "execute_result"
    }
   ],
   "source": [
    "df.iloc[:3, :5] # Look at the first 3 rows and the first 5 columns"
   ]
  },
  {
   "cell_type": "markdown",
   "metadata": {
    "slideshow": {
     "slide_type": "fragment"
    }
   },
   "source": [
    "* Labels (y) are in the second column."
   ]
  },
  {
   "cell_type": "code",
   "execution_count": 12,
   "metadata": {
    "slideshow": {
     "slide_type": "fragment"
    }
   },
   "outputs": [],
   "source": [
    "y = df.iloc[:, 1].to_numpy() # col index=1 --> fitness, labels"
   ]
  },
  {
   "cell_type": "markdown",
   "metadata": {
    "slideshow": {
     "slide_type": "fragment"
    }
   },
   "source": [
    "* Features (X) are in the columns after y."
   ]
  },
  {
   "cell_type": "code",
   "execution_count": 13,
   "metadata": {
    "slideshow": {
     "slide_type": "fragment"
    }
   },
   "outputs": [],
   "source": [
    "X = df.iloc[:, 2:-5]         # col index=2 till before the last 5 -> features"
   ]
  },
  {
   "cell_type": "code",
   "execution_count": 14,
   "metadata": {
    "slideshow": {
     "slide_type": "fragment"
    }
   },
   "outputs": [
    {
     "data": {
      "text/plain": [
       "((8160, 95), (8160,))"
      ]
     },
     "execution_count": 14,
     "metadata": {},
     "output_type": "execute_result"
    }
   ],
   "source": [
    "X.shape, y.shape"
   ]
  },
  {
   "cell_type": "markdown",
   "metadata": {
    "slideshow": {
     "slide_type": "subslide"
    }
   },
   "source": [
    "### Normalize (scale) the data"
   ]
  },
  {
   "cell_type": "markdown",
   "metadata": {
    "slideshow": {
     "slide_type": "fragment"
    }
   },
   "source": [
    "E.g., standardize features by removing the mean and scaling to unit variance\n",
    "\n",
    "![](img/2_data_processing_scaling.png)"
   ]
  },
  {
   "cell_type": "code",
   "execution_count": 15,
   "metadata": {
    "slideshow": {
     "slide_type": "subslide"
    }
   },
   "outputs": [
    {
     "data": {
      "text/plain": [
       "(8160, 95)"
      ]
     },
     "execution_count": 15,
     "metadata": {},
     "output_type": "execute_result"
    }
   ],
   "source": [
    "from sklearn.preprocessing import StandardScaler\n",
    "\n",
    "std_scaler = StandardScaler()\n",
    "\n",
    "# Fit/transform training data\n",
    "X_scale = std_scaler.fit_transform(X)  \n",
    "\n",
    "X_scale.shape"
   ]
  },
  {
   "cell_type": "markdown",
   "metadata": {
    "slideshow": {
     "slide_type": "subslide"
    }
   },
   "source": [
    "### Effect of standard scaling\n",
    "\n",
    "Using PPI_overlap as an example"
   ]
  },
  {
   "cell_type": "code",
   "execution_count": 16,
   "metadata": {
    "slideshow": {
     "slide_type": "fragment"
    }
   },
   "outputs": [
    {
     "data": {
      "text/plain": [
       "Text(0.5, 0, 'Standardized PPI_num_overlap')"
      ]
     },
     "execution_count": 16,
     "metadata": {},
     "output_type": "execute_result"
    },
    {
     "data": {
      "image/png": "[encoded data removed]",
      "text/plain": [
       "<Figure size 576x216 with 2 Axes>"
      ]
     },
     "metadata": {
      "needs_background": "light"
     },
     "output_type": "display_data"
    }
   ],
   "source": [
    "import matplotlib.pyplot as plt\n",
    "\n",
    "plt.figure(figsize=(8,3))\n",
    "plt.subplot(121)\n",
    "plt.hist(X['PPI_num_overlap'], bins=100)\n",
    "plt.title(\"Before scaling\", fontsize=16)\n",
    "plt.xlabel(\"PPI_num_overlap\", fontsize=14)\n",
    "plt.ylabel(\"Count\", fontsize=14)\n",
    "plt.subplot(122)\n",
    "plt.hist(X_scale[:,5], bins=100, color=\"red\")\n",
    "plt.title(\"After scaling\", fontsize=16)\n",
    "plt.xlabel(\"Standardized PPI_num_overlap\", fontsize=14)"
   ]
  },
  {
   "cell_type": "markdown",
   "metadata": {
    "slideshow": {
     "slide_type": "subslide"
    }
   },
   "source": [
    "### Also need to binarize or onehot-encode categorical values\n",
    "<div class=\"alert alert-warning\">\n",
    "    <strong>NOTE:</strong> In this case, we have no categorical features, so we didn't need to do this step.\n",
    "</div>\n",
    "\n",
    "![](img/2_data_processing_binarize_onehot.png)"
   ]
  },
  {
   "cell_type": "markdown",
   "metadata": {
    "slideshow": {
     "slide_type": "subslide"
    }
   },
   "source": [
    "### Deal with missing data\n",
    "__Imputation__: filling missing data based on some assumptions."
   ]
  },
  {
   "cell_type": "code",
   "execution_count": 17,
   "metadata": {
    "slideshow": {
     "slide_type": "fragment"
    }
   },
   "outputs": [
    {
     "data": {
      "text/plain": [
       "array([[        nan, -0.31094602, -1.18259597, -0.10537074, -0.83754809],\n",
       "       [ 0.01806681,         nan, -1.51747879, -0.9703313 , -0.70471724],\n",
       "       [-0.96138252, -0.47237288, -0.84771316,         nan, -0.74558827]])"
      ]
     },
     "execution_count": 17,
     "metadata": {},
     "output_type": "execute_result"
    }
   ],
   "source": [
    "X_scale[:3,:5] # The first 3 rows of the first 5 columns"
   ]
  },
  {
   "cell_type": "code",
   "execution_count": 18,
   "metadata": {
    "slideshow": {
     "slide_type": "fragment"
    }
   },
   "outputs": [],
   "source": [
    "from sklearn.impute import SimpleImputer\n",
    "\n",
    "# Crate an imputer objector, using medians to fill missing data\n",
    "imputer = SimpleImputer(strategy=\"median\") \n",
    "\n",
    "# Fit imputer with training data\n",
    "imputer.fit(X_scale)   \n",
    "\n",
    "# Transform the training data so it is imputed\n",
    "X_impute = imputer.transform(X_scale)   "
   ]
  },
  {
   "cell_type": "code",
   "execution_count": 19,
   "metadata": {
    "slideshow": {
     "slide_type": "fragment"
    }
   },
   "outputs": [
    {
     "data": {
      "text/plain": [
       "array([[ 0.01806681, -0.31094602, -1.18259597, -0.10537074, -0.83754809],\n",
       "       [ 0.01806681, -0.24637528, -1.51747879, -0.9703313 , -0.70471724],\n",
       "       [-0.96138252, -0.47237288, -0.84771316, -0.17417442, -0.74558827]])"
      ]
     },
     "execution_count": 19,
     "metadata": {},
     "output_type": "execute_result"
    }
   ],
   "source": [
    "X_impute[:3,:5]"
   ]
  },
  {
   "cell_type": "markdown",
   "metadata": {
    "slideshow": {
     "slide_type": "slide"
    }
   },
   "source": [
    "<div class=\"alert alert-danger\">\n",
    "    <strong>CAUTION:</strong> There are many ways to scale, encode, and impute the data. What we've shown here is a fairly standard approach, but it may not be the appropriate method for your data or your model. To make sure the best approach is used, it is a good practice to use multiple pre-processing approaches and build a model for each to evaluate which one is the best. It is also possible that the best approach is without scaling at all.\n",
    "</div>"
   ]
  },
  {
   "cell_type": "markdown",
   "metadata": {
    "slideshow": {
     "slide_type": "slide"
    }
   },
   "source": [
    "# __BEFORE NEXT STEP: Separate training and testing data__"
   ]
  },
  {
   "cell_type": "markdown",
   "metadata": {
    "slideshow": {
     "slide_type": "fragment"
    }
   },
   "source": [
    "<div class=\"alert alert-danger\">\n",
    "    <strong>CAUTION:</strong> Some ML practitioners advocate splitting the test set as early as possible, even before examining or imputing data as we have just done. This is to avoid *data snooping bias*: our brains are excellent pattern detectors, and some unconscious bias about our expectations can influence our pre-processing steps if we aren't careful.\n",
    "</div>"
   ]
  },
  {
   "cell_type": "markdown",
   "metadata": {
    "slideshow": {
     "slide_type": "fragment"
    }
   },
   "source": [
    "![](img/2_data_train_test_split.png)"
   ]
  },
  {
   "cell_type": "markdown",
   "metadata": {
    "slideshow": {
     "slide_type": "subslide"
    }
   },
   "source": [
    "### Specify random seed number for reproducibility"
   ]
  },
  {
   "cell_type": "code",
   "execution_count": 20,
   "metadata": {
    "slideshow": {
     "slide_type": "fragment"
    }
   },
   "outputs": [],
   "source": [
    "rand_seed = 20200729"
   ]
  },
  {
   "cell_type": "markdown",
   "metadata": {
    "slideshow": {
     "slide_type": "fragment"
    }
   },
   "source": [
    "### Split data with train_test_split"
   ]
  },
  {
   "cell_type": "code",
   "execution_count": 21,
   "metadata": {
    "slideshow": {
     "slide_type": "fragment"
    }
   },
   "outputs": [
    {
     "data": {
      "text/plain": [
       "((6528, 95), (1632, 95), (6528,), (1632,))"
      ]
     },
     "execution_count": 21,
     "metadata": {},
     "output_type": "execute_result"
    }
   ],
   "source": [
    "from sklearn.model_selection import train_test_split\n",
    "\n",
    "X_train, X_test, y_train, y_test = train_test_split(\n",
    "    X_impute,              # Scaled and imputed feature values \n",
    "    y,                     # labels\n",
    "    test_size=0.2,         # 20% are for testing\n",
    "    random_state=rand_seed)\n",
    "\n",
    "X_train.shape, X_test.shape, y_train.shape, y_test.shape"
   ]
  },
  {
   "cell_type": "markdown",
   "metadata": {
    "slideshow": {
     "slide_type": "slide"
    }
   },
   "source": [
    "# __Step 3. Feature engineering__"
   ]
  },
  {
   "cell_type": "markdown",
   "metadata": {
    "slideshow": {
     "slide_type": "fragment"
    }
   },
   "source": [
    "![](img/3_feat_engr_intro.png)"
   ]
  },
  {
   "cell_type": "markdown",
   "metadata": {
    "slideshow": {
     "slide_type": "slide"
    }
   },
   "source": [
    "## __3.1 Train an intermediate model__"
   ]
  },
  {
   "cell_type": "markdown",
   "metadata": {
    "slideshow": {
     "slide_type": "slide"
    }
   },
   "source": [
    "## __Overall process__\n",
    "\n",
    "![](img/3_feat_engr_select_fit_transform.png)"
   ]
  },
  {
   "cell_type": "markdown",
   "metadata": {
    "slideshow": {
     "slide_type": "fragment"
    }
   },
   "source": [
    "<div class=\"alert alert-warning\">\n",
    "    <strong>NOTE:</strong> There are many different feature selection methods. We've chosen the Random Forest regression model because it generates feature importance values, which we can use to select features for our model.\n",
    "</div>"
   ]
  },
  {
   "cell_type": "code",
   "execution_count": 22,
   "metadata": {
    "slideshow": {
     "slide_type": "fragment"
    }
   },
   "outputs": [],
   "source": [
    "from sklearn.ensemble import RandomForestRegressor"
   ]
  },
  {
   "cell_type": "code",
   "execution_count": 23,
   "metadata": {
    "slideshow": {
     "slide_type": "fragment"
    }
   },
   "outputs": [],
   "source": [
    "# Create a RandomForestRegressor object with default parameters\n",
    "rf_reg = RandomForestRegressor(n_jobs=-1, verbose=1, random_state=rand_seed)  "
   ]
  },
  {
   "cell_type": "code",
   "execution_count": 24,
   "metadata": {
    "slideshow": {
     "slide_type": "fragment"
    }
   },
   "outputs": [
    {
     "name": "stderr",
     "output_type": "stream",
     "text": [
      "[Parallel(n_jobs=-1)]: Using backend ThreadingBackend with 16 concurrent workers.\n",
      "[Parallel(n_jobs=-1)]: Done  18 tasks      | elapsed:    0.8s\n",
      "[Parallel(n_jobs=-1)]: Done 100 out of 100 | elapsed:    3.1s finished\n"
     ]
    },
    {
     "data": {
      "text/plain": [
       "RandomForestRegressor(bootstrap=True, ccp_alpha=0.0, criterion='mse',\n",
       "                      max_depth=None, max_features='auto', max_leaf_nodes=None,\n",
       "                      max_samples=None, min_impurity_decrease=0.0,\n",
       "                      min_impurity_split=None, min_samples_leaf=1,\n",
       "                      min_samples_split=2, min_weight_fraction_leaf=0.0,\n",
       "                      n_estimators=100, n_jobs=-1, oob_score=False,\n",
       "                      random_state=20200729, verbose=1, warm_start=False)"
      ]
     },
     "execution_count": 24,
     "metadata": {},
     "output_type": "execute_result"
    }
   ],
   "source": [
    "# Fit the model with training data\n",
    "rf_reg.fit(X_train, y_train)"
   ]
  },
  {
   "cell_type": "markdown",
   "metadata": {
    "slideshow": {
     "slide_type": "slide"
    }
   },
   "source": [
    "## __3.2 Select features based on the trained model__"
   ]
  },
  {
   "cell_type": "markdown",
   "metadata": {
    "slideshow": {
     "slide_type": "fragment"
    }
   },
   "source": [
    "<div class=\"alert alert-warning\">\n",
    "    <strong>NOTE:</strong> `SelectFromModel` uses the feature importance scores generated by the Random Forest model to choose the top features.\n",
    "</div>"
   ]
  },
  {
   "cell_type": "code",
   "execution_count": 25,
   "metadata": {
    "slideshow": {
     "slide_type": "fragment"
    }
   },
   "outputs": [],
   "source": [
    "from sklearn.feature_selection import SelectFromModel\n",
    "selector20 = SelectFromModel(rf_reg, \n",
    "                             prefit=True,      # model already fitted\n",
    "                             max_features=20)  # <--- select top 20"
   ]
  },
  {
   "cell_type": "code",
   "execution_count": 26,
   "metadata": {
    "slideshow": {
     "slide_type": "fragment"
    }
   },
   "outputs": [],
   "source": [
    "# Used the selector to transform (i.e., select features from) training data\n",
    "X_train_select20 = selector20.transform(X_train)"
   ]
  },
  {
   "cell_type": "code",
   "execution_count": 27,
   "metadata": {
    "slideshow": {
     "slide_type": "fragment"
    }
   },
   "outputs": [],
   "source": [
    "# Also transform testing data using the already-fitted selector\n",
    "X_test_select20 = selector20.transform(X_test)"
   ]
  },
  {
   "cell_type": "code",
   "execution_count": 28,
   "metadata": {
    "slideshow": {
     "slide_type": "fragment"
    }
   },
   "outputs": [
    {
     "name": "stdout",
     "output_type": "stream",
     "text": [
      "Before:(6528, 95)\n",
      "After :(6528, 20)\n"
     ]
    }
   ],
   "source": [
    "print(f\"Before:{X_train.shape}\")\n",
    "print(f\"After :{X_train_select20.shape}\")"
   ]
  },
  {
   "cell_type": "code",
   "execution_count": 29,
   "metadata": {
    "slideshow": {
     "slide_type": "skip"
    }
   },
   "outputs": [
    {
     "name": "stdout",
     "output_type": "stream",
     "text": [
      "['GOslim_%_overlap', 'full_GO_%_overlap', 'PPI_total', 'PPI_%_overlap', '37C_ORF_Chz1_reg_bind_max', '37C_UAS1_Jhd2_reg_bind_min', '37C_UAS1_Xbp1_reg_bind_avg', 'isoelectric_point_difference', '25C_UAS1_Yap1_reg_bind_min', 'phosphorylation_of_PolII_CDT_GO_num', 'nucleotidyltransferase_activity_goslim_num', 'SAM_biosyn_process_GO_num', 'transferase_activity_goslim_num', '25C_TSS_Rpb2_reg_bind_pair_total', '25C_ORF_Zms1_reg_bind_max', '25C_TSS_Ssl1_reg_bind_min', '25C_TSS_Ncb2_reg_bind_difference', 'GO_PCA_Dim1', 'GO_PCA_Dim3', 'GO_PCA_Dim4']\n"
     ]
    }
   ],
   "source": [
    "# Get selected feature names\n",
    "feat_names    = list(X.columns)\n",
    "feat_selected = selector20.get_support()\n",
    "\n",
    "feat20 = []\n",
    "for name, selected in zip(feat_names, feat_selected):\n",
    "    if selected:\n",
    "        feat20.append(name)\n",
    "\n",
    "print(feat20)"
   ]
  },
  {
   "cell_type": "markdown",
   "metadata": {
    "slideshow": {
     "slide_type": "slide"
    }
   },
   "source": [
    "<div class=\"alert alert-danger\">\n",
    "    <strong>CAUTION:</strong> Typically we will select multiple sets of features; for example, sets with different numbers of features, starting from 5 and going to include all the features. This is to see if there is an optimal number of features. However, here we only look at 20 features for simplicity.\n",
    "</div>"
   ]
  },
  {
   "cell_type": "markdown",
   "metadata": {
    "slideshow": {
     "slide_type": "slide"
    }
   },
   "source": [
    "## __3.3. Consider additional features__"
   ]
  },
  {
   "cell_type": "markdown",
   "metadata": {
    "slideshow": {
     "slide_type": "fragment"
    }
   },
   "source": [
    "![](img/3_feat_engr_sources.png)\n",
    "\n",
    "<div class=\"alert alert-warning\">\n",
    "    <strong>NOTE:</strong> Because of the time constraint, we won't be showing an example of this.\n",
    "</div>"
   ]
  },
  {
   "cell_type": "markdown",
   "metadata": {
    "slideshow": {
     "slide_type": "slide"
    }
   },
   "source": [
    "# __Step 4. Model/algorithm selection__"
   ]
  },
  {
   "cell_type": "markdown",
   "metadata": {
    "slideshow": {
     "slide_type": "fragment"
    }
   },
   "source": [
    "## __Choosing among candidate models__\n",
    "\n",
    "![](img/4_model_select_intro.png)"
   ]
  },
  {
   "cell_type": "markdown",
   "metadata": {
    "slideshow": {
     "slide_type": "slide"
    }
   },
   "source": [
    "## __4.1 Why are there many models to choose from?__"
   ]
  },
  {
   "cell_type": "markdown",
   "metadata": {
    "slideshow": {
     "slide_type": "fragment"
    }
   },
   "source": [
    "### Reason 1: There are many algorithms to choose from\n",
    "\n",
    "<img src=\"img/4_model_select_sklearn.png\" width=800>"
   ]
  },
  {
   "cell_type": "markdown",
   "metadata": {
    "slideshow": {
     "slide_type": "subslide"
    }
   },
   "source": [
    "### Reason 2: Hyperparameters\n",
    "\n",
    "![](img/4_model_select_hyperparameter.png)"
   ]
  },
  {
   "cell_type": "markdown",
   "metadata": {
    "slideshow": {
     "slide_type": "subslide"
    }
   },
   "source": [
    "### Reason 3: Each algorithm/hyperparameter combination needs to be cross-validated\n",
    "\n",
    "![](img/4_model_select_cv.png)"
   ]
  },
  {
   "cell_type": "markdown",
   "metadata": {
    "slideshow": {
     "slide_type": "slide"
    }
   },
   "source": [
    "## __4.2 Impact of ML algorithm choice__"
   ]
  },
  {
   "cell_type": "markdown",
   "metadata": {
    "slideshow": {
     "slide_type": "subslide"
    }
   },
   "source": [
    "### Split training data into training and validation subset"
   ]
  },
  {
   "cell_type": "code",
   "execution_count": 30,
   "metadata": {
    "slideshow": {
     "slide_type": "fragment"
    }
   },
   "outputs": [],
   "source": [
    "X_train_sub, X_valid_sub, y_train_sub, y_valid_sub = train_test_split(\n",
    "    X_train_select20,      # Training features         \n",
    "    y_train,               # Training labels\n",
    "    test_size=0.2,         # 20% are for VALIDATION\n",
    "    random_state=rand_seed)"
   ]
  },
  {
   "cell_type": "code",
   "execution_count": 31,
   "metadata": {
    "slideshow": {
     "slide_type": "fragment"
    }
   },
   "outputs": [
    {
     "data": {
      "text/plain": [
       "((5222, 20), (1306, 20), (5222,), (1306,))"
      ]
     },
     "execution_count": 31,
     "metadata": {},
     "output_type": "execute_result"
    }
   ],
   "source": [
    "X_train_sub.shape, X_valid_sub.shape, y_train_sub.shape, y_valid_sub.shape"
   ]
  },
  {
   "cell_type": "markdown",
   "metadata": {
    "slideshow": {
     "slide_type": "subslide"
    }
   },
   "source": [
    "### Try Simple Linear Regression with default"
   ]
  },
  {
   "cell_type": "code",
   "execution_count": 32,
   "metadata": {
    "slideshow": {
     "slide_type": "fragment"
    }
   },
   "outputs": [
    {
     "data": {
      "text/plain": [
       "LinearRegression(copy_X=True, fit_intercept=True, n_jobs=None, normalize=False)"
      ]
     },
     "execution_count": 32,
     "metadata": {},
     "output_type": "execute_result"
    }
   ],
   "source": [
    "from sklearn.linear_model import LinearRegression\n",
    "\n",
    "lin_reg = LinearRegression()\n",
    "\n",
    "lin_reg.fit(X_train_sub, y_train_sub)"
   ]
  },
  {
   "cell_type": "code",
   "execution_count": 33,
   "metadata": {
    "slideshow": {
     "slide_type": "fragment"
    }
   },
   "outputs": [],
   "source": [
    "#########################\n",
    "# Get predictions for:  #\n",
    "#########################\n",
    "\n",
    "## Training data\n",
    "y_train_pred = lin_reg.predict(X_train_sub)\n",
    "\n",
    "## Validation data\n",
    "y_valid_pred = lin_reg.predict(X_valid_sub)"
   ]
  },
  {
   "cell_type": "code",
   "execution_count": 34,
   "metadata": {
    "slideshow": {
     "slide_type": "subslide"
    }
   },
   "outputs": [
    {
     "name": "stdout",
     "output_type": "stream",
     "text": [
      "r2_train:0.2450295927577849\n",
      "r2_valid:0.3006198402259062\n"
     ]
    }
   ],
   "source": [
    "from scipy.stats import pearsonr\n",
    "\n",
    "#############################################################\n",
    "# Calculate how well true y and predicted y are correlated  #\n",
    "#############################################################\n",
    "\n",
    "## For training data\n",
    "r2_train = pearsonr(y_train_sub, y_train_pred)[0]**2\n",
    "\n",
    "## For validaton data\n",
    "r2_valid = pearsonr(y_valid_sub, y_valid_pred)[0]**2\n",
    "\n",
    "print(f'r2_train:{r2_train}')\n",
    "print(f'r2_valid:{r2_valid}')"
   ]
  },
  {
   "cell_type": "code",
   "execution_count": 35,
   "metadata": {
    "slideshow": {
     "slide_type": "subslide"
    }
   },
   "outputs": [
    {
     "data": {
      "text/plain": [
       "Text(0.5, 0, 'True y')"
      ]
     },
     "execution_count": 35,
     "metadata": {},
     "output_type": "execute_result"
    },
    {
     "data": {
      "image/png": "[encoded data removed]",
      "text/plain": [
       "<Figure size 576x288 with 2 Axes>"
      ]
     },
     "metadata": {
      "needs_background": "light"
     },
     "output_type": "display_data"
    }
   ],
   "source": [
    "# Plotting\n",
    "plt.figure(figsize=(8,4))\n",
    "plt.subplot(121)\n",
    "plt.title(\"Training performance\")\n",
    "plt.plot(y_train_sub, y_train_pred, \".\", alpha=0.2)\n",
    "plt.xlabel(\"True y\"); plt.ylabel(\"Predicted y\")\n",
    "plt.subplot(122)\n",
    "plt.title(\"Validation performance\")\n",
    "plt.plot(y_valid_sub, y_valid_pred, \".\", color=\"orange\", alpha=0.2)\n",
    "plt.xlabel(\"True y\")"
   ]
  },
  {
   "cell_type": "code",
   "execution_count": 36,
   "metadata": {
    "slideshow": {
     "slide_type": "skip"
    }
   },
   "outputs": [],
   "source": [
    "# Function for plotting true vs. predicted values\n",
    "def plot_true_vs_prediction(model, X_train, y_train, X_valid, y_valid):\n",
    "    \n",
    "    ###############################\n",
    "    # Apply model to the feature data (X) to make predictions (y)\n",
    "    y_train_pred = model.predict(X_train)\n",
    "    y_valid_pred = model.predict(X_valid)\n",
    "\n",
    "    ###############################\n",
    "    # Calculate how well true y and predicted y are correlated\n",
    "    r2_train = str(pearsonr(y_train, y_train_pred)[0]**2)[:4]\n",
    "    r2_valid = str(pearsonr(y_valid, y_valid_pred)[0]**2)[:4]\n",
    "    \n",
    "    # Print out r2 values\n",
    "    print(f'r2_score training   = {r2_train}')\n",
    "    print(f'r2_score validation = {r2_valid}')\n",
    "\n",
    "    # Plotting\n",
    "    plt.figure(figsize=(8,4))\n",
    "    plt.subplot(121)\n",
    "    plt.title(\"Training performance\")\n",
    "    plt.plot(y_train, y_train_pred, \".\", alpha=0.2)\n",
    "    plt.xlabel(\"True y\"); plt.ylabel(\"Predicted y\")\n",
    "    plt.subplot(122)\n",
    "    plt.title(\"Validation performance\")\n",
    "    plt.plot(y_valid, y_valid_pred, \".\", color=\"orange\", alpha=0.2)\n",
    "    plt.xlabel(\"True y\")\n",
    "    \n",
    "    plt.show()"
   ]
  },
  {
   "cell_type": "markdown",
   "metadata": {
    "slideshow": {
     "slide_type": "subslide"
    }
   },
   "source": [
    "### Try Support Vector Regressor with default"
   ]
  },
  {
   "cell_type": "code",
   "execution_count": 37,
   "metadata": {
    "slideshow": {
     "slide_type": "fragment"
    }
   },
   "outputs": [
    {
     "data": {
      "text/plain": [
       "SVR(C=1.0, cache_size=200, coef0=0.0, degree=3, epsilon=0.1, gamma='scale',\n",
       "    kernel='rbf', max_iter=-1, shrinking=True, tol=0.001, verbose=False)"
      ]
     },
     "execution_count": 37,
     "metadata": {},
     "output_type": "execute_result"
    }
   ],
   "source": [
    "from sklearn.svm import SVR\n",
    "\n",
    "sv_reg = SVR()\n",
    "\n",
    "sv_reg.fit(X_train_sub, y_train_sub)"
   ]
  },
  {
   "cell_type": "code",
   "execution_count": 38,
   "metadata": {
    "slideshow": {
     "slide_type": "fragment"
    }
   },
   "outputs": [
    {
     "name": "stdout",
     "output_type": "stream",
     "text": [
      "r2_score training   = 0.66\n",
      "r2_score validation = 0.45\n"
     ]
    },
    {
     "data": {
      "image/png": "[encoded data removed]",
      "text/plain": [
       "<Figure size 576x288 with 2 Axes>"
      ]
     },
     "metadata": {
      "needs_background": "light"
     },
     "output_type": "display_data"
    }
   ],
   "source": [
    "plot_true_vs_prediction(sv_reg, X_train_sub, y_train_sub, X_valid_sub, y_valid_sub)"
   ]
  },
  {
   "cell_type": "markdown",
   "metadata": {
    "slideshow": {
     "slide_type": "subslide"
    }
   },
   "source": [
    "### Try Random Forest regressor with default"
   ]
  },
  {
   "cell_type": "code",
   "execution_count": 39,
   "metadata": {
    "slideshow": {
     "slide_type": "fragment"
    }
   },
   "outputs": [
    {
     "data": {
      "text/plain": [
       "RandomForestRegressor(bootstrap=True, ccp_alpha=0.0, criterion='mse',\n",
       "                      max_depth=None, max_features='auto', max_leaf_nodes=None,\n",
       "                      max_samples=None, min_impurity_decrease=0.0,\n",
       "                      min_impurity_split=None, min_samples_leaf=1,\n",
       "                      min_samples_split=2, min_weight_fraction_leaf=0.0,\n",
       "                      n_estimators=100, n_jobs=None, oob_score=True,\n",
       "                      random_state=None, verbose=0, warm_start=False)"
      ]
     },
     "execution_count": 39,
     "metadata": {},
     "output_type": "execute_result"
    }
   ],
   "source": [
    "from sklearn.ensemble import RandomForestRegressor\n",
    "\n",
    "rf_reg = RandomForestRegressor(oob_score=True) # Create a model object\n",
    "\n",
    "rf_reg.fit(X_train_sub, y_train_sub) # Fit the training data to the model"
   ]
  },
  {
   "cell_type": "code",
   "execution_count": 40,
   "metadata": {
    "slideshow": {
     "slide_type": "fragment"
    }
   },
   "outputs": [
    {
     "name": "stdout",
     "output_type": "stream",
     "text": [
      "r2_score training   = 0.95\n",
      "r2_score validation = 0.60\n"
     ]
    },
    {
     "data": {
      "image/png": "[encoded data removed]",
      "text/plain": [
       "<Figure size 576x288 with 2 Axes>"
      ]
     },
     "metadata": {
      "needs_background": "light"
     },
     "output_type": "display_data"
    }
   ],
   "source": [
    "plot_true_vs_prediction(rf_reg, X_train_sub, y_train_sub, X_valid_sub, y_valid_sub)"
   ]
  },
  {
   "cell_type": "markdown",
   "metadata": {
    "slideshow": {
     "slide_type": "subslide"
    }
   },
   "source": [
    "<div class=\"alert alert-danger\">\n",
    " <strong>CAUTION:</strong> The above are quick looks at different ML algorithms. But to choose the best one formally, you'd need to go through Step 4.3 for every single algorithm you try.\n",
    "</div>"
   ]
  },
  {
   "cell_type": "markdown",
   "metadata": {
    "slideshow": {
     "slide_type": "slide"
    }
   },
   "source": [
    "## __4.3 Parameter tuning and cross-validation__"
   ]
  },
  {
   "cell_type": "markdown",
   "metadata": {
    "slideshow": {
     "slide_type": "subslide"
    }
   },
   "source": [
    "### Define ranges of parameters that will be tuned"
   ]
  },
  {
   "cell_type": "code",
   "execution_count": 41,
   "metadata": {
    "slideshow": {
     "slide_type": "fragment"
    }
   },
   "outputs": [],
   "source": [
    "from scipy.stats import randint\n",
    "\n",
    "# Search the following parameters\n",
    "param_grid = {\n",
    "    \"n_estimators\": randint(low=20, high=200), # random integer from 20 to 200\n",
    "    \"max_depth\"   : randint(low=2 , high=20),\n",
    "    \"max_features\": ['auto', 'sqrt', 'log2']   # 3 options \n",
    "}"
   ]
  },
  {
   "cell_type": "markdown",
   "metadata": {
    "slideshow": {
     "slide_type": "subslide"
    }
   },
   "source": [
    "### Use RandomizedSearchCV to search parameters and do cross validation"
   ]
  },
  {
   "cell_type": "code",
   "execution_count": 42,
   "metadata": {
    "slideshow": {
     "slide_type": "fragment"
    }
   },
   "outputs": [],
   "source": [
    "from sklearn.model_selection import RandomizedSearchCV\n",
    "from sklearn.metrics import make_scorer, r2_score\n",
    "\n",
    "# Create model object\n",
    "rf = RandomForestRegressor(oob_score=True)"
   ]
  },
  {
   "cell_type": "code",
   "execution_count": 43,
   "metadata": {
    "slideshow": {
     "slide_type": "fragment"
    }
   },
   "outputs": [],
   "source": [
    "# Make scorer\n",
    "r2_scorer = make_scorer(r2_score)"
   ]
  },
  {
   "cell_type": "code",
   "execution_count": 44,
   "metadata": {
    "slideshow": {
     "slide_type": "fragment"
    }
   },
   "outputs": [],
   "source": [
    "# Create randomized search object\n",
    "rnd_search = RandomizedSearchCV(\n",
    "    rf,                                # Model used\n",
    "    param_distributions=param_grid,    # Parameter distribution\n",
    "    verbose=2,                         # Provide details on runs\n",
    "    n_iter=200,                        # Search 200 parameter combinations\n",
    "    cv=5,                              # Five-fold cross validation\n",
    "    scoring=r2_scorer,                 # Scoring function\n",
    "    random_state=rand_seed,            # Random seed number for reproducibility\n",
    "    n_jobs=15)                         # Run on as many CPUs as you have"
   ]
  },
  {
   "cell_type": "markdown",
   "metadata": {
    "slideshow": {
     "slide_type": "subslide"
    }
   },
   "source": [
    "<div class=\"alert alert-danger\">\n",
    "    <strong>CAUTION:</strong> The following step takes a long time to run. On a 64GB RAM machine with 15 CPU, this takes 2.5 minutes; that means it could take up to 45 minutes or more on a machine with a single CPU.\n",
    "</div>"
   ]
  },
  {
   "cell_type": "code",
   "execution_count": 45,
   "metadata": {
    "slideshow": {
     "slide_type": "fragment"
    }
   },
   "outputs": [
    {
     "name": "stdout",
     "output_type": "stream",
     "text": [
      "Fitting 5 folds for each of 200 candidates, totalling 1000 fits\n"
     ]
    },
    {
     "name": "stderr",
     "output_type": "stream",
     "text": [
      "[Parallel(n_jobs=15)]: Using backend LokyBackend with 15 concurrent workers.\n",
      "[Parallel(n_jobs=15)]: Done  11 tasks      | elapsed:    3.6s\n",
      "[Parallel(n_jobs=15)]: Done 132 tasks      | elapsed:   24.3s\n",
      "[Parallel(n_jobs=15)]: Done 335 tasks      | elapsed:   55.9s\n",
      "[Parallel(n_jobs=15)]: Done 618 tasks      | elapsed:  1.6min\n",
      "[Parallel(n_jobs=15)]: Done 1000 out of 1000 | elapsed:  2.5min finished\n"
     ]
    },
    {
     "data": {
      "text/plain": [
       "RandomizedSearchCV(cv=5, error_score=nan,\n",
       "                   estimator=RandomForestRegressor(bootstrap=True,\n",
       "                                                   ccp_alpha=0.0,\n",
       "                                                   criterion='mse',\n",
       "                                                   max_depth=None,\n",
       "                                                   max_features='auto',\n",
       "                                                   max_leaf_nodes=None,\n",
       "                                                   max_samples=None,\n",
       "                                                   min_impurity_decrease=0.0,\n",
       "                                                   min_impurity_split=None,\n",
       "                                                   min_samples_leaf=1,\n",
       "                                                   min_samples_split=2,\n",
       "                                                   min_weight_fraction_leaf=0.0,\n",
       "                                                   n_estimators=100,\n",
       "                                                   n_jobs=None, oob_score=True...\n",
       "                   param_distributions={'max_depth': <scipy.stats._distn_infrastructure.rv_frozen object at 0x0000020E1A462B08>,\n",
       "                                        'max_features': ['auto', 'sqrt',\n",
       "                                                         'log2'],\n",
       "                                        'n_estimators': <scipy.stats._distn_infrastructure.rv_frozen object at 0x0000020E1A462E08>},\n",
       "                   pre_dispatch='2*n_jobs', random_state=20200729, refit=True,\n",
       "                   return_train_score=False, scoring=make_scorer(r2_score),\n",
       "                   verbose=2)"
      ]
     },
     "execution_count": 45,
     "metadata": {},
     "output_type": "execute_result"
    }
   ],
   "source": [
    "rnd_search.fit(X_train_select20, y_train)"
   ]
  },
  {
   "cell_type": "markdown",
   "metadata": {
    "slideshow": {
     "slide_type": "skip"
    }
   },
   "source": [
    "In order to be able to apply this model to new instances in the future, we need to save the model. It can then later be loaded using `joblib.load()`"
   ]
  },
  {
   "cell_type": "code",
   "execution_count": 46,
   "metadata": {
    "slideshow": {
     "slide_type": "skip"
    }
   },
   "outputs": [
    {
     "data": {
      "text/plain": [
       "['models\\\\model_train_select20_rf_rnd_search.joblib']"
      ]
     },
     "execution_count": 46,
     "metadata": {},
     "output_type": "execute_result"
    }
   ],
   "source": [
    "import joblib\n",
    "\n",
    "# Save the model\n",
    "joblib.dump(rnd_search, Path('./models/model_train_select20_rf_rnd_search.joblib'))"
   ]
  },
  {
   "cell_type": "markdown",
   "metadata": {
    "slideshow": {
     "slide_type": "subslide"
    }
   },
   "source": [
    "### Look into the best model"
   ]
  },
  {
   "cell_type": "code",
   "execution_count": 47,
   "metadata": {
    "slideshow": {
     "slide_type": "fragment"
    }
   },
   "outputs": [
    {
     "data": {
      "text/plain": [
       "{'max_depth': 19, 'max_features': 'auto', 'n_estimators': 88}"
      ]
     },
     "execution_count": 47,
     "metadata": {},
     "output_type": "execute_result"
    }
   ],
   "source": [
    "# The best parameter combination\n",
    "rnd_search.best_params_"
   ]
  },
  {
   "cell_type": "code",
   "execution_count": 48,
   "metadata": {
    "slideshow": {
     "slide_type": "fragment"
    }
   },
   "outputs": [
    {
     "data": {
      "text/plain": [
       "0.5499769002552142"
      ]
     },
     "execution_count": 48,
     "metadata": {},
     "output_type": "execute_result"
    }
   ],
   "source": [
    "# The mean cross-validated score of the best estimator\n",
    "rnd_search.best_score_"
   ]
  },
  {
   "cell_type": "markdown",
   "metadata": {
    "slideshow": {
     "slide_type": "subslide"
    }
   },
   "source": [
    "<div class=\"alert alert-danger\">\n",
    " <strong>CAUTION:</strong> Athough the performance after tuning/cross-validation is not better compared to the default run (r2=0.59), hyperparameter tuning should always be done, because most of the time the default is not the optimal set of hyperparameters.\n",
    "</div>"
   ]
  },
  {
   "cell_type": "markdown",
   "metadata": {
    "slideshow": {
     "slide_type": "slide"
    }
   },
   "source": [
    "## __4.4 Improving model__"
   ]
  },
  {
   "cell_type": "markdown",
   "metadata": {
    "slideshow": {
     "slide_type": "fragment"
    }
   },
   "source": [
    "<div class=\"alert alert-success\"> \n",
    "<strong>Step 1. Question</strong>: Is this the right way to ask the question? Is this the right question?\n",
    "</div>"
   ]
  },
  {
   "cell_type": "markdown",
   "metadata": {
    "slideshow": {
     "slide_type": "fragment"
    }
   },
   "source": [
    "<div class=\"alert alert-success\"> \n",
    "<strong>Step 2. Data processing</strong>: What are the other ways for processing the data? Can the data be scaled and imputed differently? Are there errors during data processing? Are there mistakes in our data in the first place? Can we get more and better data?\n",
    "</div>"
   ]
  },
  {
   "cell_type": "markdown",
   "metadata": {
    "slideshow": {
     "slide_type": "fragment"
    }
   },
   "source": [
    "<div class=\"alert alert-success\">\n",
    "<strong>Step 3. Feature engineering</strong>: Can we inluclude more features? Are some transformations of features better for modeling? Are some features more useful if they are combined? Are you using the optimal number of features? Are there better ways to select features?\n",
    "</div>"
   ]
  },
  {
   "cell_type": "markdown",
   "metadata": {
    "slideshow": {
     "slide_type": "fragment"
    }
   },
   "source": [
    "<div class=\"alert alert-success\">\n",
    "<strong>Step 4. Model/algorithm selection</strong>: What other algorithms and hyperparameters should be examined? Have we made any mistakes in how we trained the model?\n",
    "</div>"
   ]
  },
  {
   "cell_type": "markdown",
   "metadata": {
    "slideshow": {
     "slide_type": "slide"
    }
   },
   "source": [
    "# __Step 5. Model application and interpretation__"
   ]
  },
  {
   "cell_type": "markdown",
   "metadata": {
    "slideshow": {
     "slide_type": "slide"
    }
   },
   "source": [
    "## __5.1 Evaluate model with an independent testing data__"
   ]
  },
  {
   "cell_type": "markdown",
   "metadata": {
    "slideshow": {
     "slide_type": "fragment"
    }
   },
   "source": [
    "![](img/5_model_appl_evaluate.png)"
   ]
  },
  {
   "cell_type": "markdown",
   "metadata": {
    "slideshow": {
     "slide_type": "subslide"
    }
   },
   "source": [
    "### Get the best model from the randomized search"
   ]
  },
  {
   "cell_type": "code",
   "execution_count": 49,
   "metadata": {
    "slideshow": {
     "slide_type": "fragment"
    }
   },
   "outputs": [
    {
     "data": {
      "text/plain": [
       "RandomForestRegressor(bootstrap=True, ccp_alpha=0.0, criterion='mse',\n",
       "                      max_depth=19, max_features='auto', max_leaf_nodes=None,\n",
       "                      max_samples=None, min_impurity_decrease=0.0,\n",
       "                      min_impurity_split=None, min_samples_leaf=1,\n",
       "                      min_samples_split=2, min_weight_fraction_leaf=0.0,\n",
       "                      n_estimators=88, n_jobs=None, oob_score=True,\n",
       "                      random_state=None, verbose=0, warm_start=False)"
      ]
     },
     "execution_count": 49,
     "metadata": {},
     "output_type": "execute_result"
    }
   ],
   "source": [
    "best_model = rnd_search.best_estimator_\n",
    "best_model"
   ]
  },
  {
   "cell_type": "markdown",
   "metadata": {
    "slideshow": {
     "slide_type": "subslide"
    }
   },
   "source": [
    "### Apply model to the test set features to make predictions"
   ]
  },
  {
   "cell_type": "code",
   "execution_count": 50,
   "metadata": {
    "slideshow": {
     "slide_type": "fragment"
    }
   },
   "outputs": [
    {
     "data": {
      "text/plain": [
       "0.5236187854581488"
      ]
     },
     "execution_count": 50,
     "metadata": {},
     "output_type": "execute_result"
    },
    {
     "data": {
      "image/png": "[encoded data removed]",
      "text/plain": [
       "<Figure size 288x288 with 1 Axes>"
      ]
     },
     "metadata": {
      "needs_background": "light"
     },
     "output_type": "display_data"
    }
   ],
   "source": [
    "y_test_pred = best_model.predict(X_test_select20)\n",
    "\n",
    "plt.figure(figsize=(4,4))\n",
    "plt.title(\"Testing performance\")\n",
    "plt.plot(y_test, y_test_pred, \".\", alpha=0.2)\n",
    "plt.xlabel(\"True y\"); plt.ylabel(\"Predicted y\")\n",
    "\n",
    "pearsonr(y_test, y_test_pred)[0]**2"
   ]
  },
  {
   "cell_type": "markdown",
   "metadata": {
    "slideshow": {
     "slide_type": "slide"
    }
   },
   "source": [
    "## __5.2 Apply model to new cases__"
   ]
  },
  {
   "cell_type": "markdown",
   "metadata": {
    "slideshow": {
     "slide_type": "fragment"
    }
   },
   "source": [
    "<div class=\"alert alert-warning\">\n",
    "    <strong>NOTE:</strong> In this case, don't have any unknown or new instances to apply the model on.\n",
    "</div>\n",
    "\n",
    "![](img/5_model_appl_new_cases.png)"
   ]
  },
  {
   "cell_type": "markdown",
   "metadata": {
    "slideshow": {
     "slide_type": "slide"
    }
   },
   "source": [
    "## __5.3 Learn from the model__"
   ]
  },
  {
   "cell_type": "markdown",
   "metadata": {
    "slideshow": {
     "slide_type": "subslide"
    }
   },
   "source": [
    "### Examine the relative importance of features"
   ]
  },
  {
   "cell_type": "code",
   "execution_count": 51,
   "metadata": {
    "slideshow": {
     "slide_type": "fragment"
    }
   },
   "outputs": [
    {
     "data": {
      "text/plain": [
       "['GOslim_%_overlap',\n",
       " 'full_GO_%_overlap',\n",
       " 'PPI_total',\n",
       " 'PPI_%_overlap',\n",
       " '37C_ORF_Chz1_reg_bind_max',\n",
       " '37C_UAS1_Jhd2_reg_bind_min',\n",
       " '37C_UAS1_Xbp1_reg_bind_avg',\n",
       " 'isoelectric_point_difference',\n",
       " '25C_UAS1_Yap1_reg_bind_min',\n",
       " 'phosphorylation_of_PolII_CDT_GO_num',\n",
       " 'nucleotidyltransferase_activity_goslim_num',\n",
       " 'SAM_biosyn_process_GO_num',\n",
       " 'transferase_activity_goslim_num',\n",
       " '25C_TSS_Rpb2_reg_bind_pair_total',\n",
       " '25C_ORF_Zms1_reg_bind_max',\n",
       " '25C_TSS_Ssl1_reg_bind_min',\n",
       " '25C_TSS_Ncb2_reg_bind_difference',\n",
       " 'GO_PCA_Dim1',\n",
       " 'GO_PCA_Dim3',\n",
       " 'GO_PCA_Dim4']"
      ]
     },
     "execution_count": 51,
     "metadata": {},
     "output_type": "execute_result"
    }
   ],
   "source": [
    "# selected features\n",
    "feat20"
   ]
  },
  {
   "cell_type": "code",
   "execution_count": 52,
   "metadata": {
    "slideshow": {
     "slide_type": "subslide"
    }
   },
   "outputs": [
    {
     "data": {
      "text/plain": [
       "Text(0.5, 0, 'Feature importance')"
      ]
     },
     "execution_count": 52,
     "metadata": {},
     "output_type": "execute_result"
    },
    {
     "data": {
      "image/png": "[encoded data removed]",
      "text/plain": [
       "<Figure size 576x576 with 1 Axes>"
      ]
     },
     "metadata": {
      "needs_background": "light"
     },
     "output_type": "display_data"
    }
   ],
   "source": [
    "import numpy as np\n",
    "\n",
    "importance    = best_model.feature_importances_                        \n",
    "\n",
    "fig, ax  = plt.subplots(figsize=(8,8))\n",
    "y_pos    = np.asarray(range(len(feat20))) # For plotting y positions      \n",
    "\n",
    "# bar plot horizontal\n",
    "ax.barh(y_pos, importance) \n",
    "\n",
    "ax.set_yticks(y_pos)\n",
    "ax.set_yticklabels(feat20)\n",
    "ax.set_xlabel(\"Feature importance\")"
   ]
  },
  {
   "cell_type": "markdown",
   "metadata": {
    "slideshow": {
     "slide_type": "subslide"
    }
   },
   "source": [
    "## Looking at how predictions are made\n",
    "\n",
    "<img src=\"img/5_model_appl_interpret.png\" width=600>"
   ]
  },
  {
   "cell_type": "markdown",
   "metadata": {
    "slideshow": {
     "slide_type": "subslide"
    }
   },
   "source": [
    "<div class=\"alert alert-danger\">\n",
    " <strong>CAUTION:</strong> There are a number of strategies to learn more from the model which cannot be further explored here due to time constraints.\n",
    "</div>"
   ]
  }
 ],
 "metadata": {
  "celltoolbar": "Slideshow",
  "kernelspec": {
   "display_name": "Python 3",
   "language": "python",
   "name": "python3"
  },
  "language_info": {
   "codemirror_mode": {
    "name": "ipython",
    "version": 3
   },
   "file_extension": ".py",
   "mimetype": "text/x-python",
   "name": "python",
   "nbconvert_exporter": "python",
   "pygments_lexer": "ipython3",
   "version": "3.7.7"
  },
  "toc": {
   "base_numbering": 1,
   "nav_menu": {},
   "number_sections": false,
   "sideBar": true,
   "skip_h1_title": false,
   "title_cell": "Table of Contents",
   "title_sidebar": "Contents",
   "toc_cell": false,
   "toc_position": {
    "height": "calc(100% - 180px)",
    "left": "10px",
    "top": "150px",
    "width": "291.333px"
   },
   "toc_section_display": true,
   "toc_window_display": false
  },
  "toc-autonumbering": false
 },
 "nbformat": 4,
 "nbformat_minor": 4
}
